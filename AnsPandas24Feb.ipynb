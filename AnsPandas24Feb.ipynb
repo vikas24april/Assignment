{
 "cells": [
  {
   "cell_type": "code",
   "execution_count": 18,
   "id": "8773affa-4d96-4bf2-8ab4-7e21eeeeca2c",
   "metadata": {},
   "outputs": [
    {
     "name": "stdout",
     "output_type": "stream",
     "text": [
      "   A  B  C\n",
      "1  1  4  7\n",
      "3  2  5  8\n",
      "5  3  6  9\n"
     ]
    }
   ],
   "source": [
    "#Q2. Given a Pandas DataFrame df with columns 'A', 'B', and 'C', write a Python function to re-index the \n",
    "#DataFrame with a new index that starts from 1 and increments by 2 for each row.\n",
    "#Ans:\n",
    "    import pandas as pd \n",
    "def reindex_dataframe(df):\n",
    "    new_index = [i*2+1 for i in range(len(df))]\n",
    "    return df.set_index(pd.Index(new_index))\n",
    "\n",
    "import pandas as pd\n",
    "\n",
    "# create example DataFrame\n",
    "df = pd.DataFrame({'A': [1, 2, 3], 'B': [4, 5, 6], 'C': [7, 8, 9]})\n",
    "\n",
    "# reindex DataFrame\n",
    "new_df = reindex_dataframe(df)\n",
    "\n",
    "# print new DataFrame\n",
    "print(new_df)\n"
   ]
  },
  {
   "cell_type": "code",
   "execution_count": 12,
   "id": "f6dd162e-6fc4-4ac9-afb5-0e57c257a40e",
   "metadata": {},
   "outputs": [
    {
     "data": {
      "text/html": [
       "<div>\n",
       "<style scoped>\n",
       "    .dataframe tbody tr th:only-of-type {\n",
       "        vertical-align: middle;\n",
       "    }\n",
       "\n",
       "    .dataframe tbody tr th {\n",
       "        vertical-align: top;\n",
       "    }\n",
       "\n",
       "    .dataframe thead th {\n",
       "        text-align: right;\n",
       "    }\n",
       "</style>\n",
       "<table border=\"1\" class=\"dataframe\">\n",
       "  <thead>\n",
       "    <tr style=\"text-align: right;\">\n",
       "      <th></th>\n",
       "      <th>A</th>\n",
       "      <th>B</th>\n",
       "      <th>C</th>\n",
       "    </tr>\n",
       "  </thead>\n",
       "  <tbody>\n",
       "    <tr>\n",
       "      <th>0</th>\n",
       "      <td>1</td>\n",
       "      <td>4</td>\n",
       "      <td>7</td>\n",
       "    </tr>\n",
       "    <tr>\n",
       "      <th>1</th>\n",
       "      <td>2</td>\n",
       "      <td>5</td>\n",
       "      <td>8</td>\n",
       "    </tr>\n",
       "    <tr>\n",
       "      <th>2</th>\n",
       "      <td>3</td>\n",
       "      <td>6</td>\n",
       "      <td>9</td>\n",
       "    </tr>\n",
       "  </tbody>\n",
       "</table>\n",
       "</div>"
      ],
      "text/plain": [
       "   A  B  C\n",
       "0  1  4  7\n",
       "1  2  5  8\n",
       "2  3  6  9"
      ]
     },
     "execution_count": 12,
     "metadata": {},
     "output_type": "execute_result"
    }
   ],
   "source": [
    "df"
   ]
  },
  {
   "cell_type": "code",
   "execution_count": 23,
   "id": "fe3b040b-e942-478f-9eab-c6409ba4517f",
   "metadata": {},
   "outputs": [
    {
     "name": "stdout",
     "output_type": "stream",
     "text": [
      "60\n"
     ]
    }
   ],
   "source": [
    "#Q3. You have a Pandas DataFrame df with a column named 'Values'. Write a Python function that \n",
    "#iterates over the DataFrame and calculates the sum of the first three values in the 'Values' column. The function should print the sum to the console.\n",
    "\n",
    "#Ans:\n",
    "\n",
    "import pandas as pd \n",
    "\n",
    "def sum_first_three_values(df):\n",
    "    total = 0\n",
    "    for i, row in df.iterrows():\n",
    "        if i < 3:\n",
    "            total += row['Values']\n",
    "        else:\n",
    "            break\n",
    "    print(total)\n",
    "\n",
    "df =pd.DataFrame({'Values':[10,20,30,40,50]})\n",
    "\n",
    "sum_first_three_values(df)\n"
   ]
  },
  {
   "cell_type": "code",
   "execution_count": 26,
   "id": "a7bdc088-31b6-41e6-a9b0-7f8fb6f12d27",
   "metadata": {},
   "outputs": [
    {
     "name": "stdout",
     "output_type": "stream",
     "text": [
      "                               Text  Word_Count\n",
      "0                This is a sentence           4\n",
      "1                  Another sentence           2\n",
      "2  A third sentence with more words           6\n"
     ]
    }
   ],
   "source": [
    "# Q4. Given a Pandas DataFrame df with a column 'Text', write a Python function to create a new column \n",
    "# 'Word_Count' that contains the number of words in each row of the 'Text' column.\n",
    "#Ans:\n",
    "import pandas as pd\n",
    "\n",
    "def add_word_count_column(df):\n",
    "    # define lambda function to count number of words in each row of 'Text' column\n",
    "    count_words = lambda text: len(str(text).split())\n",
    "\n",
    "    # create new column 'Word_Count' with the count of words in 'Text' column\n",
    "    df['Word_Count'] = df['Text'].apply(count_words)\n",
    "\n",
    "    # return modified DataFrame\n",
    "    return df\n",
    "# create example DataFrame\n",
    "df = pd.DataFrame({'Text': ['This is a sentence', 'Another sentence', 'A third sentence with more words']})\n",
    "\n",
    "# add 'Word_Count' column to DataFrame\n",
    "df = add_word_count_column(df)\n",
    "\n",
    "# print new DataFrame\n",
    "print(df)\n"
   ]
  },
  {
   "cell_type": "code",
   "execution_count": 29,
   "id": "9b1bd649-3f72-48e4-a998-4227cb49a9c4",
   "metadata": {},
   "outputs": [
    {
     "name": "stdout",
     "output_type": "stream",
     "text": [
      "             Email Username\n",
      "0  Vikas@gmail.com    Vikas\n",
      "1  Mohit@gmail.com    Mohit\n",
      "2   Ammu@gmail.com     Ammu\n"
     ]
    }
   ],
   "source": [
    "#Q7.You have a Pandas DataFrame df that contains a column named 'Email' that contains email \n",
    "#addresses in the format 'username@domain.com'. Write a Python function that creates a new column \n",
    "#'Username' in df that contains only the username part of each email address.\n",
    "\n",
    "#Ans:\n",
    "\n",
    "import pandas as pd\n",
    "\n",
    "def extract_username(df):\n",
    "    # define lambda function to extract username from email address\n",
    "    extract_username = lambda email: email.split('@')[0]\n",
    "\n",
    "    # create new column 'Username' with the extracted username from 'Email' column\n",
    "    df['Username'] = df['Email'].apply(extract_username)\n",
    "\n",
    "    # return modified DataFrame\n",
    "    return df\n",
    "     \n",
    "    \n",
    "df=pd.DataFrame({'Email':['Vikas@gmail.com','Mohit@gmail.com','Ammu@gmail.com']}) \n",
    "df=extract_username(df)\n",
    "print(df)\n"
   ]
  },
  {
   "cell_type": "code",
   "execution_count": 30,
   "id": "f5357ee1-78d3-43fc-b9ec-6e6abeb030a5",
   "metadata": {},
   "outputs": [
    {
     "name": "stdout",
     "output_type": "stream",
     "text": [
      "   A  B  C\n",
      "1  8  2  7\n",
      "2  6  9  4\n",
      "4  9  1  2\n"
     ]
    }
   ],
   "source": [
    "#Q8 You have a Pandas DataFrame df with columns 'A', 'B', and 'C'. Write a Python function that selects \n",
    "#all rows where the value in column 'A' is greater than 5 and the value in column 'B' is less than 10. The \n",
    "#function should return a new DataFrame that contains only the selected rows.\n",
    "\n",
    "# For example, if df contains the following values:\n",
    "\n",
    "#    A   B   C\n",
    "\n",
    "# 0  3   5   1\n",
    "\n",
    "# 1  8   2   7\n",
    "\n",
    "# 2  6   9   4\n",
    "\n",
    "# 3  2   3   5\n",
    "\n",
    "# 4  9   1   2\n",
    "\n",
    "#Ans:\n",
    "\n",
    "import pandas as pd\n",
    "\n",
    "def select_rows(df):\n",
    "    # select rows where value in column 'A' is greater than 5 and value in column 'B' is less than 10\n",
    "    selected_rows = df.loc[(df['A'] > 5) & (df['B'] < 10)]\n",
    "\n",
    "    # return new DataFrame with selected rows\n",
    "    return selected_rows\n",
    "\n",
    "# create example DataFrame\n",
    "df = pd.DataFrame({'A': [3, 8, 6, 2, 9],\n",
    "                   'B': [5, 2, 9, 3, 1],\n",
    "                   'C': [1, 7, 4, 5, 2]})\n",
    "\n",
    "# select rows where value in column 'A' is greater than 5 and value in column 'B' is less than 10\n",
    "selected_rows = select_rows(df)\n",
    "\n",
    "# print selected rows\n",
    "print(selected_rows)\n",
    "\n",
    "\n"
   ]
  },
  {
   "cell_type": "code",
   "execution_count": 33,
   "id": "8fe8bbdf-1644-48e5-9486-59b66f50b04e",
   "metadata": {},
   "outputs": [
    {
     "name": "stdout",
     "output_type": "stream",
     "text": [
      "Values    4.4\n",
      "dtype: float64\n",
      "Values    4.0\n",
      "dtype: float64\n",
      "Values    3.507136\n",
      "dtype: float64\n"
     ]
    }
   ],
   "source": [
    "#Q9. Given a Pandas DataFrame df with a column 'Values', write a Python function to calculate the mean, \n",
    "#median, and standard deviation of the values in the 'Values' column.\n",
    "\n",
    "#Ans:\n",
    "\n",
    "import pandas as pd \n",
    "\n",
    "df=pd.DataFrame({'Values':[1,2,10,4,5]})\n",
    "mean =df.mean()\n",
    "print(mean)\n",
    "median =df.median()\n",
    "print(median)\n",
    "std=df.std()\n",
    "print(std)"
   ]
  },
  {
   "cell_type": "code",
   "execution_count": 34,
   "id": "b2797907-bc2e-47fa-a09c-3364f60dd1cd",
   "metadata": {},
   "outputs": [
    {
     "name": "stdout",
     "output_type": "stream",
     "text": [
      "   Sales       Date  MovingAverage\n",
      "0    546 2022-01-01     546.000000\n",
      "1    192 2022-01-02     369.000000\n",
      "2    819 2022-01-03     519.000000\n",
      "3    802 2022-01-04     589.750000\n",
      "4    751 2022-01-05     622.000000\n",
      "5    136 2022-01-06     541.000000\n",
      "6    556 2022-01-07     543.142857\n",
      "7    684 2022-01-08     562.857143\n",
      "8    640 2022-01-09     626.857143\n",
      "9    579 2022-01-10     592.571429\n"
     ]
    }
   ],
   "source": [
    "#Q10. Given a Pandas DataFrame df with a column 'Sales' and a column 'Date', write a Python function to \n",
    "#create a new column 'MovingAverage' that contains the moving average of the sales for the past 7 days \n",
    "#for each row in the DataFrame. The moving average should be calculated using a window of size 7 and should include the current day.\n",
    "\n",
    "#Ans:\n",
    "def add_moving_average(df):\n",
    "    window_size = 7\n",
    "    ma_column = 'MovingAverage'\n",
    "\n",
    "    # Sort the DataFrame by date\n",
    "    df.sort_values('Date', inplace=True)\n",
    "\n",
    "    # Calculate the moving average\n",
    "    ma = df['Sales'].rolling(window_size, min_periods=1).mean()\n",
    "\n",
    "    # Add the moving average as a new column\n",
    "    df[ma_column] = ma\n",
    "\n",
    "    return df\n",
    "\n",
    "import pandas as pd\n",
    "import numpy as np\n",
    "\n",
    "# Generate some sample data\n",
    "start_date = pd.Timestamp('2022-01-01')\n",
    "end_date = pd.Timestamp('2022-01-31')\n",
    "dates = pd.date_range(start_date, end_date, freq='D')\n",
    "sales = np.random.randint(100, 1000, size=len(dates))\n",
    "df = pd.DataFrame({'Sales': sales, 'Date': dates})\n",
    "\n",
    "# Calculate the moving average\n",
    "df = add_moving_average(df)\n",
    "\n",
    "# Print the updated DataFrame\n",
    "print(df.head(10))\n",
    "\n"
   ]
  },
  {
   "cell_type": "code",
   "execution_count": 37,
   "id": "84eac512-8999-44d5-a659-faab129b1150",
   "metadata": {},
   "outputs": [
    {
     "name": "stdout",
     "output_type": "stream",
     "text": [
      "        Date    Weekday\n",
      "0 2023-01-01     Sunday\n",
      "1 2023-01-02     Monday\n",
      "2 2023-01-03    Tuesday\n",
      "3 2023-01-04  Wednesday\n",
      "4 2023-01-05   Thursday\n"
     ]
    }
   ],
   "source": [
    "# Q11. You have a Pandas DataFrame df with a column 'Date'. Write a Python function that creates a new \n",
    "# column 'Weekday' in the DataFrame. The 'Weekday' column should contain the weekday name (e.g. \n",
    "# Monday, Tuesday) corresponding to each date in the 'Date' column.\n",
    "\n",
    "# For example, if df contains the following values:\n",
    "\n",
    "#          Date\n",
    "\n",
    "# 0  2023-01-01\n",
    "\n",
    "# 1  2023-01-02\n",
    "\n",
    "# 2  2023-01-03\n",
    "\n",
    "# 3  2023-01-04\n",
    "\n",
    "# 4  2023-01-05\n",
    "\n",
    "#Ans:\n",
    "\n",
    "def add_weekday_column(df):\n",
    "    df['Weekday'] = df['Date'].dt.day_name()\n",
    "    return df\n",
    "\n",
    "import pandas as pd\n",
    "\n",
    "# Sample DataFrame\n",
    "df = pd.DataFrame({'Date': ['2023-01-01', '2023-01-02', '2023-01-03', '2023-01-04', '2023-01-05']})\n",
    "\n",
    "# Convert 'Date' column to datetime format\n",
    "df['Date'] = pd.to_datetime(df['Date'])\n",
    "\n",
    "# Add 'Weekday' column\n",
    "df = add_weekday_column(df)\n",
    "\n",
    "# Print updated DataFrame\n",
    "print(df)\n",
    "\n"
   ]
  },
  {
   "cell_type": "code",
   "execution_count": 46,
   "id": "e3e17785-0455-4b63-ad25-2b80146a35a9",
   "metadata": {},
   "outputs": [],
   "source": [
    "# Q12. Given a Pandas DataFrame df with a column 'Date' that contains timestamps, write a Python \n",
    "# function to select all rows where the date is between '2023-01-01' and '2023-01-31'.\n",
    "\n",
    "#Ans:\n",
    "import pandas as pd\n",
    "\n",
    "def select_january(df):\n",
    "    start_date = pd.Timestamp('2023-01-01')\n",
    "    end_date = pd.Timestamp('2023-01-31')\n",
    "    selected_rows = df.loc[(df['Date'] >= start_date) & (df['Date'] <= end_date)]\n",
    "    return selected_rows\n",
    "    \n"
   ]
  },
  {
   "cell_type": "code",
   "execution_count": null,
   "id": "c8ed7f55-e538-4bd0-abc3-67fc0e7e6ce1",
   "metadata": {},
   "outputs": [],
   "source": [
    "#Q1. List any five functions of the pandas library with execution.\n",
    "#Ans:\n",
    "Sure, here are five functions of the pandas library along with their execution:\n",
    "\n",
    "import pandas as pd\n",
    "df = pd.read_csv('file.csv')\n",
    "pandas.DataFrame.head(): This function is used to return the first n rows of a DataFrame. Here's an example:\n",
    "python\n",
    "\n",
    "import pandas as pd\n",
    "df = pd.read_csv('file.csv')\n",
    "first_five_rows = df.head(5)\n",
    "pandas.DataFrame.describe(): This function is used to get a summary of the DataFrame including count, mean, std, min, max, etc. Here's an example:\n",
    "python\n",
    "\n",
    "import pandas as pd\n",
    "df = pd.read_csv('file.csv')\n",
    "df_summary = df.describe()\n",
    "pandas.DataFrame.groupby(): This function is used to group the DataFrame using one or more columns. Here's an example:\n",
    "python\n",
    "\n",
    "import pandas as pd\n",
    "df = pd.read_csv('file.csv')\n",
    "grouped_df = df.groupby('column_name')\n",
    "pandas.DataFrame.merge(): This function is used to merge two DataFrames based on a common column. Here's an example:\n",
    "python\n",
    "\n",
    "import pandas as pd\n",
    "df1 = pd.read_csv('file1.csv')\n",
    "df2 = pd.read_csv('file2.csv')\n",
    "merged_df = pd.merge(df1, df2, on='common_column')"
   ]
  },
  {
   "cell_type": "code",
   "execution_count": null,
   "id": "d9a1e8f1-b0fe-4357-af07-c910bd6c164d",
   "metadata": {},
   "outputs": [],
   "source": [
    "#Q5. How are DataFrame.size() and DataFrame.shape() different?\n",
    "#Ans:\n",
    "DataFrame.shape returns a tuple that represents the dimensions of the DataFrame in terms of rows and columns. Specifically, it returns the number of rows as the first element of the tuple and the number of columns as the second element.\n",
    "\n",
    "DataFrame.size, on the other hand, returns the total number of elements in the DataFrame, which is equal to the number of rows multiplied by the number of columns.\n",
    "\n",
    "In summary, DataFrame.shape gives you the number of rows and columns in the DataFrame, while DataFrame.size gives you the total number of elements in the DataFrame."
   ]
  },
  {
   "cell_type": "code",
   "execution_count": null,
   "id": "9f1768e4-0162-403d-afad-ce54fe157cbb",
   "metadata": {},
   "outputs": [],
   "source": [
    "#Q6. Which function of pandas do we use to read an excel file?\n",
    "#Ans:\n",
    "To read an excel file in pandas, we use the read_excel() function.\n",
    "\n",
    "Example: df = pd.read_excel('filename.xlsx')"
   ]
  },
  {
   "cell_type": "code",
   "execution_count": null,
   "id": "27a693c1-8847-47c4-8937-e7aa45ad4511",
   "metadata": {},
   "outputs": [],
   "source": []
  },
  {
   "cell_type": "code",
   "execution_count": null,
   "id": "39100bba-a5fd-41b7-8bf8-0a5dd4b757a9",
   "metadata": {},
   "outputs": [],
   "source": []
  },
  {
   "cell_type": "code",
   "execution_count": null,
   "id": "0b00aa33-ab8f-4f81-8eb7-1b0faae89114",
   "metadata": {},
   "outputs": [],
   "source": []
  },
  {
   "cell_type": "code",
   "execution_count": null,
   "id": "91619dea-4e26-43ec-800c-f6c04762a3be",
   "metadata": {},
   "outputs": [],
   "source": []
  }
 ],
 "metadata": {
  "kernelspec": {
   "display_name": "Python 3 (ipykernel)",
   "language": "python",
   "name": "python3"
  },
  "language_info": {
   "codemirror_mode": {
    "name": "ipython",
    "version": 3
   },
   "file_extension": ".py",
   "mimetype": "text/x-python",
   "name": "python",
   "nbconvert_exporter": "python",
   "pygments_lexer": "ipython3",
   "version": "3.10.8"
  }
 },
 "nbformat": 4,
 "nbformat_minor": 5
}
