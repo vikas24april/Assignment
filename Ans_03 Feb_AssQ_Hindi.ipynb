{
 "cells": [
  {
   "cell_type": "code",
   "execution_count": 20,
   "id": "1b58f25a-d823-4aa1-8bb2-042b1c169402",
   "metadata": {},
   "outputs": [
    {
     "name": "stdout",
     "output_type": "stream",
     "text": [
      "[1, 3, 5, 7, 9, 11, 13, 15, 17, 19, 21, 23, 25]\n"
     ]
    }
   ],
   "source": [
    "# Q1. Which keyword is used to create a function? Create a function to return a list of odd numbers in the\n",
    "# range of 1 to 25.\n",
    "#Ans:\n",
    "##The keyword used to create a function in Python is \"def\". Here's an example of a function that returns a list of odd numbers in the range of 1 to 25:\n",
    "\n",
    "def odd_numbers():\n",
    "    odd_list = []\n",
    "    for i in range(1, 26):\n",
    "        if i % 2 != 0:\n",
    "            odd_list.append(i)\n",
    "    return odd_list\n",
    "\n",
    "print(odd_numbers())\n",
    "     "
   ]
  },
  {
   "cell_type": "code",
   "execution_count": 2,
   "id": "fa58d644-0a38-49ab-a5c0-85ed314061bc",
   "metadata": {},
   "outputs": [
    {
     "name": "stdout",
     "output_type": "stream",
     "text": [
      "args: (1, 2, 3, 4)\n",
      "kwargs: {'name': 'John', 'age': 28}\n"
     ]
    }
   ],
   "source": [
    "# Q2. Why *args and **kwargs is used in some functions? Create a function each for *args and **kwargs\n",
    "# to demonstrate their use.\n",
    "\n",
    "#Ans:\n",
    "\n",
    "# *args and **kwargs are used in a function to allow it to accept a variable number of arguments.\n",
    "\n",
    "# *args is used to send a non-keyworded variable length argument list to the function. The syntax is to use the asterisk (*) symbol before the parameter name, args.\n",
    "\n",
    "# **kwargs allows you to pass keyworded variable length of arguments to a function. You should use the double asterisk (**) before the parameter name kwargs.\n",
    "\n",
    "# Here's an example of a function that demonstrates the use of *args:\n",
    "\n",
    "def print_args(*args):\n",
    "    print(\"args:\", args)\n",
    "\n",
    "print_args(1, 2, 3,4)\n",
    "\n",
    "#And here's an example of a function that demonstrates the use of **kwargs:\n",
    "\n",
    "def print_kwargs(**kwargs):\n",
    "    print(\"kwargs:\", kwargs)\n",
    "\n",
    "print_kwargs(name=\"John\", age=28)\n"
   ]
  },
  {
   "cell_type": "code",
   "execution_count": 1,
   "id": "434f1419-ed57-424b-b524-cb5ba3efb407",
   "metadata": {},
   "outputs": [
    {
     "name": "stdout",
     "output_type": "stream",
     "text": [
      "2\n",
      "4\n",
      "6\n",
      "8\n",
      "10\n"
     ]
    }
   ],
   "source": [
    "# Q3.  What is an iterator in python? Name the method used to initialise the iterator object and the method \n",
    "# used for iteration. Use these methods to print the first five elements of the given list [2, 4, 6, 8, 10, 12, 14, \n",
    "# 16, 18, 20].\n",
    "\n",
    "#Ans:An iterator in Python is an object that implements the \"iterator protocol\", which consists of the methods __iter__() and __next__(). The __iter__() method returns the iterator object, while the __next__() method returns the next item in the sequence represented by the iterator.\n",
    "#The iter() built-in function is used to initialize the iterator object, and the next() built-in function is used for iteration\n",
    "    \n",
    "class IterateList:\n",
    "    def __init__(self, lst):\n",
    "        self.lst = lst\n",
    "        self.index = 0\n",
    "\n",
    "    def __iter__(self):\n",
    "        return self\n",
    "\n",
    "    def __next__(self):\n",
    "        if self.index < len(self.lst):\n",
    "            item = self.lst[self.index]\n",
    "            self.index += 1\n",
    "            return item\n",
    "        else:\n",
    "            raise StopIteration\n",
    "\n",
    "lst = [2, 4, 6, 8, 10, 12, 14, 16, 18, 20]\n",
    "it = IterateList(lst)\n",
    "for i in range(5):\n",
    "    print(next(it))\n",
    "\n"
   ]
  },
  {
   "cell_type": "code",
   "execution_count": 4,
   "id": "30e918f2-51a1-40ea-9514-08595fb27ebe",
   "metadata": {},
   "outputs": [
    {
     "name": "stdout",
     "output_type": "stream",
     "text": [
      "0\n",
      "1\n",
      "1\n",
      "2\n"
     ]
    }
   ],
   "source": [
    "#Q4:What is a generator function in python? Why yield keyword is used? Give an example of a generator function.\n",
    "\n",
    "#ANS: A generator function in Python is a special type of function that generates a generator iterator. It does so by using the yield keyword, which returns a value from the function but also \"remembers\" the current state of the function, so that the next time it is called, it resumes where it left off.\n",
    "# The yield keyword is used because it allows the generator function to produce a sequence of values over time, instead of generating them all at once and returning them in a list. This can be more memory-efficient and faster, especially when working with large sequences.\n",
    "# Here is an example of a generator function in Python:\n",
    "\n",
    "def fibonacci():\n",
    "    a, b = 0, 1\n",
    "    while True:\n",
    "        yield a\n",
    "        a, b = b, a + b\n",
    "\n",
    "# To use the generator\n",
    "fib = fibonacci()\n",
    "print(next(fib))\n",
    "print(next(fib))\n",
    "print(next(fib))\n",
    "print(next(fib))"
   ]
  },
  {
   "cell_type": "code",
   "execution_count": 14,
   "id": "7b9375a7-80c9-460d-beea-efa4252c990d",
   "metadata": {},
   "outputs": [
    {
     "name": "stdout",
     "output_type": "stream",
     "text": [
      "2\n",
      "3\n",
      "5\n",
      "7\n",
      "11\n",
      "13\n",
      "17\n",
      "19\n",
      "23\n",
      "29\n",
      "31\n",
      "37\n",
      "41\n",
      "43\n",
      "47\n",
      "53\n",
      "59\n",
      "61\n",
      "67\n",
      "71\n"
     ]
    }
   ],
   "source": [
    "#Q5.Create a generator function for prime numbers less than 1000.\n",
    "#Use the next() method to print the first 20 prime numbers.\n",
    "\n",
    "#Ans:\n",
    "def prime_numbers():\n",
    "    yield 2\n",
    "    primes = [2]\n",
    "    candidate = 3\n",
    "    while candidate < 1000:\n",
    "        is_prime = True\n",
    "        for prime in primes:\n",
    "            if candidate % prime == 0:\n",
    "                is_prime = False\n",
    "                break\n",
    "        if is_prime:\n",
    "            primes.append(candidate)\n",
    "            yield candidate\n",
    "        candidate += 2\n",
    "\n",
    "# To use the generator\n",
    "prime_gen = prime_numbers()\n",
    "for i in range(20):\n",
    "    print(next(prime_gen))\n"
   ]
  },
  {
   "cell_type": "code",
   "execution_count": 17,
   "id": "7873a305-4bb8-4fe8-85f2-86d1c1027440",
   "metadata": {},
   "outputs": [
    {
     "name": "stdout",
     "output_type": "stream",
     "text": [
      "0\n",
      "1\n",
      "1\n",
      "2\n",
      "3\n",
      "5\n",
      "8\n",
      "13\n",
      "21\n",
      "34\n"
     ]
    }
   ],
   "source": [
    "#Q6. Write a python program to print the first 10 Fibonacci numbers using a while loop.\n",
    "#Ans:\n",
    "a, b = 0, 1\n",
    "count = 0\n",
    "while count < 10:\n",
    "    print(a)\n",
    "    a, b = b, a + b\n",
    "    count += 1\n",
    "            \n",
    "\n",
    "            \n",
    "\n",
    "\n",
    "\n",
    "            \n",
    "        \n",
    "\n",
    "\n",
    "\n"
   ]
  },
  {
   "cell_type": "code",
   "execution_count": 33,
   "id": "20fe5fdf-9258-4f87-af3a-605823b83975",
   "metadata": {},
   "outputs": [
    {
     "name": "stdout",
     "output_type": "stream",
     "text": [
      "['p', 'w', 's', 'k', 'i', 'l', 'l', 's']\n"
     ]
    }
   ],
   "source": [
    "#Q7. Write a List Comprehension to iterate through the given string: ‘pwskills’.\n",
    "#Expected output: ['p', 'w', 's', 'k', 'i', 'l', 'l', 's'] \n",
    "\n",
    "# Ans: \n",
    "s='pwskills'\n",
    "Compr= [i for i in s]\n",
    "print(Compr)\n",
    "\n",
    "\n",
    "\n",
    "    \n",
    "\n",
    "\n"
   ]
  },
  {
   "cell_type": "code",
   "execution_count": 40,
   "id": "152ef934-4018-4b69-b097-d697590a60d7",
   "metadata": {},
   "outputs": [
    {
     "name": "stdin",
     "output_type": "stream",
     "text": [
      "Enter a number:  1001\n"
     ]
    },
    {
     "name": "stdout",
     "output_type": "stream",
     "text": [
      "1001 is a palindrome.\n"
     ]
    }
   ],
   "source": [
    "#Q8. Write a python program to check whether a given number is Palindrome or not using a while loop.\n",
    "\n",
    "#Ans:\n",
    "\n",
    "def is_palindrome(number):\n",
    "    temp = number\n",
    "    reverse = 0\n",
    "    while temp > 0:\n",
    "        reverse = (reverse * 10) + (temp % 10)\n",
    "        temp = temp // 10\n",
    "    return reverse == number\n",
    "\n",
    "number = int(input(\"Enter a number: \"))\n",
    "if is_palindrome(number):\n",
    "    print(number, \"is a palindrome.\")\n",
    "else:\n",
    "    print(number, \"is not a palindrome.\")\n",
    "\n"
   ]
  },
  {
   "cell_type": "code",
   "execution_count": 49,
   "id": "eee1e56b-9e4f-4fb1-ab62-7b5ef37db605",
   "metadata": {},
   "outputs": [
    {
     "name": "stdout",
     "output_type": "stream",
     "text": [
      "[1, 3, 5, 7, 9, 11, 13, 15, 17, 19, 21, 23, 25, 27, 29, 31, 33, 35, 37, 39, 41, 43, 45, 47, 49, 51, 53, 55, 57, 59, 61, 63, 65, 67, 69, 71, 73, 75, 77, 79, 81, 83, 85, 87, 89, 91, 93, 95, 97, 99]\n"
     ]
    }
   ],
   "source": [
    "#Q9:Write a code to print odd numbers from 1 to 100 using list comprehension.\n",
    "\n",
    "#Ans:        \n",
    "odd_num= [i for i in range(1,101)  if i % 2 != 0 ]    \n",
    "print(odd_num)\n",
    "\n",
    "\n"
   ]
  },
  {
   "cell_type": "code",
   "execution_count": null,
   "id": "c82460aa-c91b-4f01-b294-de3fb9078455",
   "metadata": {},
   "outputs": [],
   "source": []
  }
 ],
 "metadata": {
  "kernelspec": {
   "display_name": "Python 3 (ipykernel)",
   "language": "python",
   "name": "python3"
  },
  "language_info": {
   "codemirror_mode": {
    "name": "ipython",
    "version": 3
   },
   "file_extension": ".py",
   "mimetype": "text/x-python",
   "name": "python",
   "nbconvert_exporter": "python",
   "pygments_lexer": "ipython3",
   "version": "3.10.8"
  }
 },
 "nbformat": 4,
 "nbformat_minor": 5
}
