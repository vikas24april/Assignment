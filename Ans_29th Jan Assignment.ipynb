{
 "cells": [
  {
   "cell_type": "code",
   "execution_count": null,
   "id": "63160241-e108-40d9-984e-66961531c070",
   "metadata": {},
   "outputs": [],
   "source": [
    "# 1. Who devoloped Python Programming Language?\n",
    "# 2. Which typo of Programming does Python support?\n",
    "# 3. Is Python case sensitive when dealing with identifiers?\n",
    "# 4. What is the correct extension of the Python file?\n",
    "# 5. Is Python coda compiled or interpreted?\n",
    "# 6. Name a few blocks of code used to define in Python language?\n",
    "# 7. State a character used to give single-line comments in Python?\n",
    "# 8. Mention functions which can help us to find the version of python that we are currently working on?\n",
    "# 9. Python supports the creation of anonymous functions at runtime, using a construct called\n",
    "# 10. What does pip stand for python?\n",
    "# 11. Mention a few built-in functions in python?\n",
    "# 12. What is the maximum possible length of an identifier in Python?\n",
    "# 13. What are the benefits of using Python?\n",
    "# 14. How is memory managed in Python?\n",
    "# 15. How to install Python on Windows and set path variables?\n",
    "# 16. Is indentation required in python?\n",
    "\n",
    "#Ans1:Python was developed by Guido van Rossum in the late 1980s and early 1990s.\n",
    "#Ans2: Python supports multiple programming paradigms, including procedural, object-oriented, and functional programming.\n",
    "#Ans3:Yes, Python is case sensitive when dealing with identifiers.\n",
    "#Ans4:The correct extension for a Python file is \".py\".\n",
    "#Ans5:Python is an interpreted language, meaning that code is executed line by line at runtime rather than compiled into machine code beforehand.\n",
    "#Ans6: In Python, code blocks are defined using indentation. For example, a function definition is a code block that starts with the \"def\" keyword and is indented underneath it.\n",
    "#Ans7: The \"#\" character is used for single-line comments in Python.\n",
    "#Ans8: The \"sys\" module in Python includes a function called \"version\" that can be used to find the version of Python currently being used. The command \"python --version\" can also be used in the command line.\n",
    "#Ans9: Python supports the creation of anonymous functions using the \"lambda\" keyword.\n",
    "#Ans10: \"pip\" stands for \"Pip Installs Packages\". It is a package manager for Python that allows users to install and manage packages and their dependencies.\n",
    "#Ans11: Python has many built-in functions, including print(), len(), range(), type(), and input().\n",
    "#Ans12: The maximum possible length of an identifier in Python is implementation-dependent, but it is generally around 79 or 80 characters.\n",
    "#Ans13: Some benefits of using Python include its simplicity and ease of use, its large and active community, its support for multiple programming paradigms, and its extensive collection of libraries and tools.\n",
    "#Ans14: Memory in Python is managed using a combination of reference counting and garbage collection. Objects are automatically deallocated when they are no longer referenced by the program.\n",
    "# To install Python on Windows, you can download the installer from the official Python website and run it. To set path variables, you can add the path to the Python executable to the system or user \"PATH\" environment variable.\n",
    "# Yes, indentation is required in Python. Code blocks are defined by their level of indentation, so it is important to use consistent and correct indentation to avoid syntax errors"
   ]
  }
 ],
 "metadata": {
  "kernelspec": {
   "display_name": "Python 3 (ipykernel)",
   "language": "python",
   "name": "python3"
  },
  "language_info": {
   "codemirror_mode": {
    "name": "ipython",
    "version": 3
   },
   "file_extension": ".py",
   "mimetype": "text/x-python",
   "name": "python",
   "nbconvert_exporter": "python",
   "pygments_lexer": "ipython3",
   "version": "3.10.8"
  }
 },
 "nbformat": 4,
 "nbformat_minor": 5
}
