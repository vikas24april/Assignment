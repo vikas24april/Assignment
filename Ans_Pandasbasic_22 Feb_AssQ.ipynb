{
 "cells": [
  {
   "cell_type": "code",
   "execution_count": 7,
   "id": "0adbaa98-c9fa-4b18-9818-80bf7e4872da",
   "metadata": {},
   "outputs": [
    {
     "name": "stdout",
     "output_type": "stream",
     "text": [
      "0     4\n",
      "1     8\n",
      "2    15\n",
      "3    16\n",
      "4    23\n",
      "5    42\n",
      "dtype: int64\n"
     ]
    }
   ],
   "source": [
    "#Q1. Create a Pandas Series that contains the following data: 4, 8, 15, 16, 23, and 42. Then, print the series.\n",
    "\n",
    "#Ans:\n",
    "import pandas as pd\n",
    "data = [4, 8, 15, 16, 23, 42]\n",
    "series = pd.Series(data)\n",
    "print(series)\n",
    "\n",
    "\n"
   ]
  },
  {
   "cell_type": "code",
   "execution_count": 15,
   "id": "72ea2646-1b52-498e-bb41-29e7816efd63",
   "metadata": {},
   "outputs": [
    {
     "name": "stdout",
     "output_type": "stream",
     "text": [
      "0     1\n",
      "1     2\n",
      "2     3\n",
      "3     4\n",
      "4     5\n",
      "5     6\n",
      "6     7\n",
      "7     8\n",
      "8     9\n",
      "9    10\n",
      "dtype: int64\n"
     ]
    }
   ],
   "source": [
    "#Q2. Create a variable of list type containing 10 elements in it, and apply pandas.Series function on the variable print it.\n",
    "\n",
    "#Ans:\n",
    "import pandas as pd\n",
    "\n",
    "my_list = [1, 2, 3, 4, 5, 6, 7, 8, 9, 10]\n",
    "\n",
    "my_series = pd.Series(my_list)\n",
    "\n",
    "print(my_series)\n"
   ]
  },
  {
   "cell_type": "code",
   "execution_count": 20,
   "id": "d51556c3-a9b7-41ae-acab-f370f32f0c18",
   "metadata": {},
   "outputs": [
    {
     "name": "stdout",
     "output_type": "stream",
     "text": [
      "     Name  Age  Gender\n",
      "0   Alice   25  Female\n",
      "1     Bob   30    Male\n",
      "2  Claire   27  Female\n"
     ]
    }
   ],
   "source": [
    "#Q3:Create a Pandas DataFrame that contains the following data:\n",
    "#then, print the DataFrame.\n",
    "\n",
    "#Ans:\n",
    "\n",
    "my_dict = {\"Name\": [\"Alice\", \"Bob\", \"Claire\"],\n",
    "           \"Age\": [25, 30, 27],\n",
    "           \"Gender\": [\"Female\", \"Male\",\"Female\"]}\n",
    "df =pd.DataFrame(my_dict)\n",
    "print(df)"
   ]
  },
  {
   "cell_type": "code",
   "execution_count": null,
   "id": "5d071c95-d262-4d68-8f43-67d97c75d65b",
   "metadata": {},
   "outputs": [],
   "source": [
    "#Q4. What is ‘DataFrame’ in pandas and how is it different from pandas.series? Explain with an example\n",
    "\n",
    "ANS:\n",
    "    In Pandas, a Data Frame is a two-dimensional labeled data structure that consists of rows and columns, similar to a spreadsheet or a SQL table. It is a primary Pandas data structure used for data manipulation, analysis, and cleaning.\n",
    "\n",
    "On the other hand, a Series is a one-dimensional labeled array-like object that can hold any data type. A Series can be seen as a single column of a DataFrame.\n",
    "\n",
    "Here's an example to illustrate the difference between a DataFrame and a Series in Pandas:\n",
    "\n",
    "import pandas as pd\n",
    "\n",
    "# Creating a DataFrame\n",
    "df = pd.DataFrame({'Name': ['John', 'Mary', 'Adam'],\n",
    "                   'Age': [30, 25, 28],\n",
    "                   'Country': ['USA', 'Canada', 'UK']})\n",
    "print(df)\n",
    "\n",
    "# Output:\n",
    "#    Name  Age Country\n",
    "# 0  John   30     USA\n",
    "# 1  Mary   25  Canada\n",
    "# 2  Adam   28      UK\n",
    "\n",
    "# Creating a Series\n",
    "s = pd.Series([30, 25, 28], name='Age')\n",
    "print(s)\n",
    "\n",
    "# Output:\n",
    "# 0    30\n",
    "# 1    25\n",
    "# 2    28\n",
    "# Name: Age, dtype: int64\n",
    "\n",
    "To summarize, a DataFrame is a two-dimensional labeled data structure that contains multiple columns and rows, while a Series is a one-dimensional labeled data structure that contains only one column of data."
   ]
  },
  {
   "cell_type": "code",
   "execution_count": null,
   "id": "1b495573-d046-4dad-b5e7-5f1bfeacf938",
   "metadata": {},
   "outputs": [],
   "source": [
    "#Q5: What are some common functions you can use to manipulate data in a Pandas DataFrame? Can \n",
    "#you give an example of when you might use one of these functions?\n",
    "\n",
    "#Ans:\n",
    "head() and tail(): These functions allow you to view the first or last few rows of a DataFrame, respectively. You might use them to quickly get an idea of the structure and content of the DataFrame.\n",
    "\n",
    "drop(): This function is used to remove one or more rows or columns from a DataFrame. You might use it to remove irrelevant or unnecessary data from the DataFrame.\n",
    "\n",
    "fillna(): This function is used to fill missing values in a DataFrame with a specified value or method. You might use it to handle missing data in a DataFrame.\n",
    "\n",
    "groupby(): This function is used to group data in a DataFrame by one or more columns and perform some aggregate function, such as sum or mean. You might use it to analyze data based on some categories.\n",
    "\n",
    "sort_values(): This function is used to sort the rows of a DataFrame based on one or more columns. You might use it to sort data in ascending or descending order based on some criterion.\n",
    "\n",
    "Example:\n",
    "    \n",
    "    import pandas as pd\n",
    "\n",
    "# create a DataFrame with customer information\n",
    "data = {'customer_id': [1, 2, 3, 4, 5],\n",
    "        'name': ['Alice', 'Bob', 'Charlie', 'David', 'Emma']}\n",
    "customers = pd.DataFrame(data)\n",
    "\n",
    "# create a DataFrame with order information\n",
    "data = {'customer_id': [1, 1, 2, 3, 3, 3, 4, 5],\n",
    "        'order_id': [101, 102, 103, 104, 105, 106, 107, 108],\n",
    "        'amount': [10.5, 15.2, 8.9, 12.3, 14.5, 18.7, 11.2, 9.8]}\n",
    "orders = pd.DataFrame(data)\n",
    "\n",
    "# join the two DataFrames\n",
    "df = pd.merge(customers, orders, on='customer_id')\n",
    "\n",
    "# group the data by customer ID and calculate the total amount spent by each customer\n",
    "grouped = df.groupby('customer_id')['amount'].sum()\n",
    "\n",
    "print(grouped)\n",
    "\n",
    "In this example, we first join the two DataFrames using the merge() function. We then group the data by customer ID using the groupby() function and calculate the sum of the amount column for each group. The resulting output shows the total amount spent by each customer.\n",
    "    "
   ]
  },
  {
   "cell_type": "code",
   "execution_count": null,
   "id": "f930fbd9-5a7d-4e25-a666-a1bf5314a130",
   "metadata": {},
   "outputs": [],
   "source": [
    "#Q6: Which of the following is mutable in nature Series, DataFrame, Panel?\n",
    "#Ans:Of the three data structures, Series and DataFrame are mutable, while Panel is considered to be an experimental data structure in Pandas and has been removed from the latest versions of Pandas.\n",
    "\n",
    "In a Series, you can modify the values at specific indexes, add or remove values, and update the metadata associated with the Series. Similarly, in a DataFrame, you can modify the values in individual cells, add or remove rows or columns, and update the metadata associated with the DataFrame.\n",
    "\n",
    "However, it's important to note that modifying a Series or DataFrame in place can have unintended consequences and should be done with caution. To avoid modifying the original data, it's often better to create a copy of the data and make changes to the copy."
   ]
  },
  {
   "cell_type": "code",
   "execution_count": null,
   "id": "61f8eac3-d9aa-440f-8b85-e14d194cd054",
   "metadata": {},
   "outputs": [],
   "source": [
    "#Q7:. Create a DataFrame using multiple Series. Explain with an example\n",
    "#Ans: "
   ]
  }
 ],
 "metadata": {
  "kernelspec": {
   "display_name": "Python 3 (ipykernel)",
   "language": "python",
   "name": "python3"
  },
  "language_info": {
   "codemirror_mode": {
    "name": "ipython",
    "version": 3
   },
   "file_extension": ".py",
   "mimetype": "text/x-python",
   "name": "python",
   "nbconvert_exporter": "python",
   "pygments_lexer": "ipython3",
   "version": "3.10.8"
  }
 },
 "nbformat": 4,
 "nbformat_minor": 5
}
